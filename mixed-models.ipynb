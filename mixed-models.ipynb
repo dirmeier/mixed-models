{
 "cells": [
  {
   "cell_type": "markdown",
   "metadata": {},
   "source": [
    "# Mixed models\n",
    "\n",
    "This repository shows the different algorithmic approaches to fit generalized linear mixed models."
   ]
  },
  {
   "cell_type": "markdown",
   "metadata": {},
   "source": [
    "\\begin{align}\n",
    "\\mathbf{y} \\mid \\mathbf{u} &\\sim \\mathcal{N}\\left(\\mathbf{X}\\boldsymbol \\beta + \\mathbf{Z}\\mathbf{u}, \\sigma^2 \\mathbf{I}\\right)\\\\\n",
    "\\mathbf{u} & \\sim  \\mathcal{N}\\left(\\mathbf{0}, \\mathbf{Q}\\right)\n",
    "\\end{align}\n",
    "\n",
    "\\begin{align}\n",
    "\\mathbf{y} \\sim \\mathcal{N}\\left(\\mathbf{X}\\boldsymbol \\beta, \\sigma^2 \\mathbf{I} +   \\mathbf{Z} \\mathbf{Q}  \\mathbf{Z}^T\\right)\n",
    "\\end{align}"
   ]
  },
  {
   "cell_type": "code",
   "execution_count": 1,
   "metadata": {},
   "outputs": [],
   "source": [
    "import statsmodels\n",
    "from patsy import dmatrices, dmatrix, demo_data"
   ]
  },
  {
   "cell_type": "code",
   "execution_count": 2,
   "metadata": {},
   "outputs": [],
   "source": [
    "import numpy as np\n",
    "import pandas as pd\n",
    "import statsmodels.api as sm\n",
    "import statsmodels.formula.api as smf\n",
    "import pandas\n",
    "from sklearn.preprocessing import LabelEncoder"
   ]
  },
  {
   "cell_type": "code",
   "execution_count": 3,
   "metadata": {},
   "outputs": [],
   "source": [
    "tab = pandas.read_csv(\"./data/sleepstudy.csv\")"
   ]
  },
  {
   "cell_type": "code",
   "execution_count": 4,
   "metadata": {},
   "outputs": [],
   "source": [
    "Y, X = dmatrices(\"Reaction ~ Days\", tab)"
   ]
  },
  {
   "cell_type": "code",
   "execution_count": 5,
   "metadata": {},
   "outputs": [],
   "source": [
    "def _build_ranef_model_matrix(tab, factor, ranef):\n",
    "    inter_tab = tab[[factor, ranef]].copy()    \n",
    "    inter_tab['grp'] = LabelEncoder().fit_transform(tab.Subject)\n",
    "    inter_tab = inter_tab[[factor, \"grp\"]].pivot(columns=factor).reindex()\n",
    "    inter_tab.values[np.isfinite(inter_tab.values)] = 1\n",
    "    inter_tab.values[np.isnan(inter_tab.values)] = 0\n",
    "    \n",
    "    slope_tab = tab[[factor, ranef]].copy().pivot(columns=factor).reindex()\n",
    "    slope_tab.values[np.isnan(slope_tab.values)] = 0\n",
    "    \n",
    "    Z = pd.concat([inter_tab, slope_tab], axis=1, sort=True)\n",
    "    Z = Z.reindex(sorted(Z.columns, key=lambda x: x[1]), axis=1)\n",
    "    \n",
    "    return Z\n",
    "Z = _build_ranef_model_matrix(tab, \"Subject\", \"Days\")"
   ]
  },
  {
   "cell_type": "code",
   "execution_count": 7,
   "metadata": {},
   "outputs": [],
   "source": [
    "import scipy.stats"
   ]
  },
  {
   "cell_type": "code",
   "execution_count": 10,
   "metadata": {},
   "outputs": [
    {
     "data": {
      "text/plain": [
       "array([[ 0.11810381,  2.38824922, -1.63684812, -0.17010394,  0.70563158],\n",
       "       [-0.74328986,  1.35520054,  0.14254812, -0.19973519,  0.98262199]])"
      ]
     },
     "execution_count": 10,
     "metadata": {},
     "output_type": "execute_result"
    }
   ],
   "source": [
    "nu = scipy.stats.norm.rvs(size=10).reshape((2, 5))\n",
    "nu"
   ]
  },
  {
   "cell_type": "code",
   "execution_count": 11,
   "metadata": {},
   "outputs": [],
   "source": [
    "G = scipy.zeros(shape=(Z.shape[1], Z.shape[1]))"
   ]
  },
  {
   "cell_type": "code",
   "execution_count": 13,
   "metadata": {},
   "outputs": [
    {
     "data": {
      "text/plain": [
       "36"
      ]
     },
     "execution_count": 13,
     "metadata": {},
     "output_type": "execute_result"
    }
   ],
   "source": [
    "Z.shape[1]"
   ]
  },
  {
   "cell_type": "code",
   "execution_count": null,
   "metadata": {},
   "outputs": [],
   "source": []
  }
 ],
 "metadata": {
  "kernelspec": {
   "display_name": "Python (ML)",
   "language": "python",
   "name": "ml"
  },
  "language_info": {
   "codemirror_mode": {
    "name": "ipython",
    "version": 3
   },
   "file_extension": ".py",
   "mimetype": "text/x-python",
   "name": "python",
   "nbconvert_exporter": "python",
   "pygments_lexer": "ipython3",
   "version": "3.6.8"
  }
 },
 "nbformat": 4,
 "nbformat_minor": 2
}
