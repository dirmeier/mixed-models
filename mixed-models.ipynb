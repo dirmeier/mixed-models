{
 "cells": [
  {
   "cell_type": "markdown",
   "metadata": {},
   "source": [
    "# Mixed models\n",
    "\n",
    "Here, we try fitting generalized linear mixed effect models (GLMMs), i.e. models of the form:\n",
    "\n",
    "\\begin{align}\n",
    "\\mathbb{E}\\left[ y_{ij} \\mid \\boldsymbol \\gamma_i \\right] &= h \\left( \\boldsymbol \\eta_{ij} \\right) \\\\\n",
    "\\boldsymbol \\eta_{ij} & = \\mathbf{x}_{ij}^T\\boldsymbol \\beta + \\mathbf{u}_{ij}^T \\boldsymbol \\gamma_i\n",
    "\\end{align}\n",
    "\n",
    "for data $(y_{ij}, \\mathbf{x}_{ij})$ that is grouped into $i \\in \\{1, \\dots, m \\}$ groups (or clusters) and $j \\in \\{1, \\dots, n_i\\}$ observations per group.\n",
    "\n",
    "For an intro on the notation, usual assumptions, etc. please refer to _any_ book on regression models, as this is not part of this notebook. The most prominrnt example of an LMM is for Gaussian responses $\\mathbf{y}$:\n",
    "\n",
    "\\begin{align}\n",
    "y_{ij} \\mid \\boldsymbol \\gamma_i & \\sim \\mathcal{N}\\left(\\mathbf{x}_{ij}^T\\boldsymbol \\beta + \\mathbf{u}_{ij}^T\\boldsymbol \\gamma_i, \\sigma^2\\right)\\\\\n",
    "\\boldsymbol \\gamma_i & \\sim  \\mathcal{N}\\left(\\mathbf{0}, \\mathbf{Q}\\right)\n",
    "\\end{align}\n",
    "\n",
    "where the response function $h$ is the identity function. Another frequent one in the exponential family is the Poisson case:\n",
    "\n",
    "\\begin{align}\n",
    "{y}_{ij} \\mid \\boldsymbol \\gamma_i & \\sim \\text{Pois} \\left( \\exp \\left( \\mathbf{x}_{ij}^T\\boldsymbol \\beta + \\mathbf{u}_{ij}^T\\boldsymbol \\gamma_i \\right)\\right)\\\\\n",
    "\\boldsymbol \\gamma_i & \\sim  \\mathcal{N}\\left(\\mathbf{0}, \\mathbf{Q}\\right)\n",
    "\\end{align}\n",
    "\n",
    "where $h$ is for instance the exponential function. The main difference to classic linear regression models is that we also need to estimate the variance of the random effects $\\boldsymbol \\gamma$ which makes the model quite difficult to fit albeit its simplistic form. In the following we show, how $\\boldsymbol \\beta$ can be estimated and $\\boldsymbol \\gamma$ can be predicted for the Gaussian case and for the Poisson case. The implementations are not really efficient and don't use results from contemporary research (i.e., `lme4`'s PLS and PIRLS).\n",
    "\n",
    "**I do not take warranty for the correctness or completeness of this document.**\n",
    "\n",
    "The relevant code can be found [here](https://github.com/dirmeier/mixed-models)."
   ]
  },
  {
   "cell_type": "markdown",
   "metadata": {},
   "source": [
    "We first load some libraries we need."
   ]
  },
  {
   "cell_type": "code",
   "execution_count": 35,
   "metadata": {},
   "outputs": [],
   "source": [
    "import scipy as sp\n",
    "import pandas\n",
    "import pandas as pd\n",
    "from patsy import dmatrices, dmatrix\n",
    "import scipy.stats as st\n",
    "from sklearn.preprocessing import LabelEncoder\n",
    "import matplotlib.pyplot as plt\n",
    "\n",
    "rmvnorm = st.multivariate_normal.rvs\n",
    "rpois = st.poisson.rvs"
   ]
  },
  {
   "cell_type": "markdown",
   "metadata": {},
   "source": [
    "The implementations for fitting GLMMs can be found in these modules:"
   ]
  },
  {
   "cell_type": "code",
   "execution_count": 6,
   "metadata": {},
   "outputs": [],
   "source": [
    "from lme.optim import optim, optim_poisson\n",
    "from lme.ls import wls, solve_gamma, working_response, working_weight, irls\n",
    "from lme.marginal_likelhood import restricted_mll, profile_mll\n",
    "from lme.util import block_diag, cholesky_factor, v, ranef_variance"
   ]
  },
  {
   "cell_type": "markdown",
   "metadata": {},
   "source": [
    "We use the design matrix from the sleep study data from `lme4` since it's good for our purpose (but any other one will do, too). The description of the data from the package: *The average reaction time per day for subjects in a sleep deprivation study. On day 0 the subjects had their normal amount of sleep. Starting that night they were restricted to 3 hours of sleep per night. The observations represent the average reaction time on a series of tests given each day to each subject.*"
   ]
  },
  {
   "cell_type": "code",
   "execution_count": 49,
   "metadata": {},
   "outputs": [
    {
     "data": {
      "text/html": [
       "<div>\n",
       "<style scoped>\n",
       "    .dataframe tbody tr th:only-of-type {\n",
       "        vertical-align: middle;\n",
       "    }\n",
       "\n",
       "    .dataframe tbody tr th {\n",
       "        vertical-align: top;\n",
       "    }\n",
       "\n",
       "    .dataframe thead th {\n",
       "        text-align: right;\n",
       "    }\n",
       "</style>\n",
       "<table border=\"1\" class=\"dataframe\">\n",
       "  <thead>\n",
       "    <tr style=\"text-align: right;\">\n",
       "      <th></th>\n",
       "      <th>Reaction</th>\n",
       "      <th>Days</th>\n",
       "      <th>Subject</th>\n",
       "    </tr>\n",
       "  </thead>\n",
       "  <tbody>\n",
       "    <tr>\n",
       "      <th>0</th>\n",
       "      <td>249.5600</td>\n",
       "      <td>0</td>\n",
       "      <td>308</td>\n",
       "    </tr>\n",
       "    <tr>\n",
       "      <th>1</th>\n",
       "      <td>258.7047</td>\n",
       "      <td>1</td>\n",
       "      <td>308</td>\n",
       "    </tr>\n",
       "    <tr>\n",
       "      <th>2</th>\n",
       "      <td>250.8006</td>\n",
       "      <td>2</td>\n",
       "      <td>308</td>\n",
       "    </tr>\n",
       "    <tr>\n",
       "      <th>3</th>\n",
       "      <td>321.4398</td>\n",
       "      <td>3</td>\n",
       "      <td>308</td>\n",
       "    </tr>\n",
       "    <tr>\n",
       "      <th>4</th>\n",
       "      <td>356.8519</td>\n",
       "      <td>4</td>\n",
       "      <td>308</td>\n",
       "    </tr>\n",
       "  </tbody>\n",
       "</table>\n",
       "</div>"
      ],
      "text/plain": [
       "   Reaction  Days  Subject\n",
       "0  249.5600     0      308\n",
       "1  258.7047     1      308\n",
       "2  250.8006     2      308\n",
       "3  321.4398     3      308\n",
       "4  356.8519     4      308"
      ]
     },
     "execution_count": 49,
     "metadata": {},
     "output_type": "execute_result"
    }
   ],
   "source": [
    "tab = pandas.read_csv(\"./data/sleepstudy.csv\")\n",
    "tab.head()"
   ]
  },
  {
   "cell_type": "markdown",
   "metadata": {},
   "source": [
    "In `R`'s formula notation we are trying to fit a model of this form: `Reaction ~ Days + (Days | Subject)`. At the time of writing this `patsy` doesn't support creating random effects model matrices, so we need to do it ourselves. However, we can use it for the response matrix and fixed effects design matrix."
   ]
  },
  {
   "cell_type": "code",
   "execution_count": 67,
   "metadata": {},
   "outputs": [],
   "source": [
    "y, X = dmatrices(\"Reaction ~ Days\", tab)"
   ]
  },
  {
   "cell_type": "markdown",
   "metadata": {},
   "source": [
    "To create the random effects matrix $\\mathbf{U}$, let us first realize how $\\mathbf{U}$ has to look: if we collect all cluster-specific responses $\\mathbf{y}_i$ and the respective random effects $\\boldsymbol \\gamma_i$ into vectors, we get\n",
    "\n",
    "\\begin{align}\n",
    "\\mathbf{y} = \n",
    "\\begin{pmatrix}\n",
    "\\mathbf{y}_1 \\\\\n",
    "\\vdots\\\\\n",
    "\\mathbf{y}_m\\\\\n",
    "\\end{pmatrix} =\n",
    "\\begin{pmatrix}\n",
    "y_{1,1}\\\\\n",
    "\\vdots\\\\\n",
    "y_{1,n_1}\\\\\n",
    "y_{2,1}\\\\\n",
    "\\vdots\\\\\n",
    "y_{m,n_m}\n",
    "\\end{pmatrix}\n",
    ",\\qquad\n",
    "\\boldsymbol \\gamma = \n",
    "\\begin{pmatrix}\n",
    "\\boldsymbol \\gamma_{1}\\\\\n",
    "\\vdots\\\\\n",
    "\\boldsymbol \\gamma_{m}\n",
    "\\end{pmatrix}\n",
    "\\end{align}\n",
    "\n",
    "Thus, in matrix notation the general form of $\\mathbf{U}$ needs to be a block diagonal matrix:\n",
    "\n",
    "\\begin{align}\n",
    "\\mathbf{U} = \\text{blockdiag}\\left(\\mathbf{U}_1, \\dots, \\mathbf{U}_i, \\dots ,\\mathbf{U}_m\\right)\n",
    "\\end{align}\n"
   ]
  },
  {
   "cell_type": "markdown",
   "metadata": {},
   "source": [
    "We can compute $\\mathbf{U}$ using the following method:"
   ]
  },
  {
   "cell_type": "code",
   "execution_count": 65,
   "metadata": {},
   "outputs": [],
   "source": [
    "def build_ranef_model_matrix(tab, factor, ranef):\n",
    "    inter_tab = tab[[factor, ranef]].copy()\n",
    "    inter_tab['grp'] = LabelEncoder().fit_transform(tab.Subject)\n",
    "    inter_tab = inter_tab[[factor, \"grp\"]].pivot(columns=factor).reindex()\n",
    "    inter_tab.values[sp.isfinite(inter_tab.values)] = 1\n",
    "    inter_tab.values[sp.isnan(inter_tab.values)] = 0\n",
    "\n",
    "    slope_tab = tab[[factor, ranef]].copy().pivot(columns=factor).reindex()\n",
    "    slope_tab.values[sp.isnan(slope_tab.values)] = 0\n",
    "\n",
    "    U = pd.concat([inter_tab, slope_tab], axis=1, sort=True)\n",
    "    U = U.reindex(sorted(U.columns, key=lambda x: x[1]), axis=1)\n",
    "\n",
    "    return sp.asarray(U.values)"
   ]
  },
  {
   "cell_type": "code",
   "execution_count": 66,
   "metadata": {},
   "outputs": [
    {
     "data": {
      "text/plain": [
       "array([[1., 0., 0., ..., 0., 0., 0.],\n",
       "       [1., 1., 0., ..., 0., 0., 0.],\n",
       "       [1., 2., 0., ..., 0., 0., 0.],\n",
       "       ...,\n",
       "       [0., 0., 0., ..., 0., 1., 7.],\n",
       "       [0., 0., 0., ..., 0., 1., 8.],\n",
       "       [0., 0., 0., ..., 0., 1., 9.]])"
      ]
     },
     "execution_count": 66,
     "metadata": {},
     "output_type": "execute_result"
    }
   ],
   "source": [
    "U = build_ranef_model_matrix(tab, \"Subject\", \"Days\")\n",
    "U"
   ]
  },
  {
   "cell_type": "markdown",
   "metadata": {},
   "source": [
    "Let's do some checks: $\\mathbf{U}$ needs to have as many rows as $\\mathbf{X}$ or $\\mathbf{y}$ and twice as many columns as grouping factors, i.e. an intercept and a slope for every group."
   ]
  },
  {
   "cell_type": "code",
   "execution_count": 80,
   "metadata": {},
   "outputs": [],
   "source": [
    "assert(U.shape[0] == X.shape[0])\n",
    "assert(U.shape[1] == 2 * len(sp.unique(tab.Subject.values)))"
   ]
  },
  {
   "cell_type": "markdown",
   "metadata": {},
   "source": [
    "As a first example, we sample the responses ourselves to be able to validate the inferences. We set $\\sigma^2 = 0.1$ and $\\boldsymbol \\beta = \\left(2 \\ 1\\right)^T$."
   ]
  },
  {
   "cell_type": "code",
   "execution_count": 82,
   "metadata": {},
   "outputs": [],
   "source": [
    "n, p = X.shape\n",
    "q = int(U.shape[1] / 2)\n",
    "\n",
    "sd = 0.1\n",
    "beta = sp.array([2, 1])"
   ]
  },
  {
   "cell_type": "markdown",
   "metadata": {},
   "source": [
    "Then we sample every random effects vector $\\boldsymbol \\gamma_i \\sim \\mathcal{N}\\left(\\mathbf{0}, \\sigma^2\\begin{pmatrix} 1 & 0.25 \\\\ 0.25 & 1\\end{pmatrix}\\right)$. Like $\\mathbf{U}$, the covariance matrix of $\\boldsymbol \\gamma$, $\\mathbf{G}$,  has to be block-diagonal, too:\n",
    "\n",
    "\n",
    "\\begin{align}\n",
    "\\mathbf{G} = \\text{blockdiag}\\left(\\mathbf{Q}, \\dots, \\mathbf{Q}, \\dots ,\\mathbf{Q}\\right)\n",
    "\\end{align}\n"
   ]
  },
  {
   "cell_type": "code",
   "execution_count": 93,
   "metadata": {},
   "outputs": [
    {
     "data": {
      "text/plain": [
       "0.004416309719067267"
      ]
     },
     "execution_count": 93,
     "metadata": {},
     "output_type": "execute_result"
    }
   ],
   "source": [
    "sp.random.seed(23)\n",
    "\n",
    "Q = sd * sp.array([[1, 0.25], [0.25, 1]])\n",
    "gamma = rmvnorm(mean=sp.zeros(q * 2), cov=block_diag(Q, q))\n",
    "gamma.mean()"
   ]
  },
  {
   "cell_type": "markdown",
   "metadata": {},
   "source": [
    "We can then sample from the conditional distribution $P(\\mathbf{y} \\mid \\boldsymbol \\gamma)$ as:"
   ]
  },
  {
   "cell_type": "code",
   "execution_count": 88,
   "metadata": {},
   "outputs": [],
   "source": [
    "y = rmvnorm(mean=X.dot(beta) + U.dot(gamma), cov=sp.diag(sd * sp.ones(n)))"
   ]
  },
  {
   "cell_type": "markdown",
   "metadata": {},
   "source": [
    "Fitting an LMM consists of estimating $\\sigma^2$, $\\boldsymbol \\beta$ and $\\mathbf{Q}$ and predicting the random effects $\\boldsymbol \\gamma$. First we estimate $\\sigma^2$ and $\\mathbf{Q}$ by integrating out $\\boldsymbol \\beta$ and $\\boldsymbol \\gamma$ from the conditional likelihood. To do so we treat $\\boldsymbol \\beta$ as a random variable with flat prior as from an empirical Bayes perspective. Having estimated the variance components, we estimate $\\boldsymbol \\beta$ and $\\boldsymbol \\gamma$. \n",
    "\n",
    "More specifically, we start from the joint likelihood of all parameters $L\\left(\\boldsymbol \\beta, \\boldsymbol \\gamma, \\sigma^2, \\mathbf{G} \\right)$. From this we marginalize out the random effects \n",
    "\n",
    "\\begin{align}\n",
    "L\\left(\\boldsymbol \\beta, \\sigma^2, \\mathbf{G} \\right) = \\int L\\left(\\boldsymbol \\beta, \\boldsymbol \\gamma, \\sigma^2, \\mathbf{G} \\right) d\\boldsymbol \\gamma\n",
    "\\end{align}\n",
    "\n",
    "As mentioned above, we now treat $\\boldsymbol \\beta$ as random and marginalize it out, too:\n",
    "\n",
    "\\begin{align}\n",
    "L\\left(\\sigma^2, \\mathbf{G} \\right) = \\int L\\left(\\boldsymbol \\beta, \\sigma^2, \\mathbf{G} \\right) d\\boldsymbol \\beta\n",
    "\\end{align}\n",
    "\n",
    "We usually call the likelihood above *restricted* likelihood. $L\\left(\\sigma^2, \\mathbf{G} \\right)$ needs to be estimated numerically, for instance using Newton's method. We then use [Henderson's mixed model equations](https://en.wikipedia.org/wiki/Mixed_model#Estimation) for $\\boldsymbol \\beta$ and $\\boldsymbol \\gamma$. "
   ]
  },
  {
   "cell_type": "markdown",
   "metadata": {},
   "source": [
    "We optimize the (log)likelihood function first:"
   ]
  },
  {
   "cell_type": "code",
   "execution_count": 95,
   "metadata": {},
   "outputs": [],
   "source": [
    "pll = restricted_mll(\"gaussian\")\n",
    "fn = lambda nu, y, X, U: sp.asscalar(pll(nu, y, X, U)[0])\n",
    "optimz = optim(fn, y, X, U)\n",
    "sd_hat, nu_hat = optimz['sigma'], optimz['nu']"
   ]
  },
  {
   "cell_type": "markdown",
   "metadata": {},
   "source": [
    "Estimates of $\\sigma^2$:"
   ]
  },
  {
   "cell_type": "code",
   "execution_count": 119,
   "metadata": {},
   "outputs": [
    {
     "name": "stdout",
     "output_type": "stream",
     "text": [
      "sigma:\t\t0.1\n",
      "sigma_hat:\t0.09291316710177702\n"
     ]
    }
   ],
   "source": [
    "print(\"sigma:\\t\\t{}\\nsigma_hat:\\t{}\".format(sd, sd_hat))"
   ]
  },
  {
   "cell_type": "markdown",
   "metadata": {},
   "source": [
    "Estimates of $\\mathbf{G}$:"
   ]
  },
  {
   "cell_type": "code",
   "execution_count": 124,
   "metadata": {},
   "outputs": [
    {
     "name": "stdout",
     "output_type": "stream",
     "text": [
      "Q:\n",
      "[[0.1   0.025]\n",
      " [0.025 0.1  ]]\n",
      "Q_hat:\n",
      "[[0.05602312 0.02232002]\n",
      " [0.02232002 0.12631985]]\n"
     ]
    }
   ],
   "source": [
    "print(\"Q:\\n{}\\nQ_hat:\\n{}\".format(Q, cholesky_factor(nu_hat)))"
   ]
  },
  {
   "cell_type": "markdown",
   "metadata": {},
   "source": [
    "We then use Henderson's equations (see McCulloch & Searle (2001), Eqns 6.24 and 6.42):"
   ]
  },
  {
   "cell_type": "code",
   "execution_count": 127,
   "metadata": {},
   "outputs": [],
   "source": [
    "V_hat, G_hat, R_hat = v(sd_hat, nu_hat, n, q, U)\n",
    "b_hat = wls(y, X, V_hat)\n",
    "gamma_hat = solve_gamma(y, X, G_hat, U, V_hat, b_hat)"
   ]
  },
  {
   "cell_type": "markdown",
   "metadata": {},
   "source": [
    "Estimates of $\\boldsymbol \\beta$:"
   ]
  },
  {
   "cell_type": "code",
   "execution_count": 133,
   "metadata": {},
   "outputs": [
    {
     "name": "stdout",
     "output_type": "stream",
     "text": [
      "beta: [2 1]\n",
      "beta_hat: [2.01487263 0.909761  ]\n"
     ]
    }
   ],
   "source": [
    "print(\"beta: {}\\nbeta_hat: {}\".format(beta, b_hat))"
   ]
  },
  {
   "cell_type": "markdown",
   "metadata": {},
   "source": [
    "Estimates of $\\boldsymbol \\gamma$:"
   ]
  },
  {
   "cell_type": "code",
   "execution_count": 135,
   "metadata": {},
   "outputs": [
    {
     "name": "stdout",
     "output_type": "stream",
     "text": [
      "gamma:\n",
      "[-0.25538236 -0.07811166 -0.16371937  0.15081283  0.37619662  0.01261309\n",
      " -0.48256002  0.0082431  -0.04384917 -0.30698673  0.06033511  0.46520567\n",
      "  0.27633971 -0.09256565  0.52124719  0.04748265 -0.05064887  0.71172263\n",
      " -0.08712428 -0.79900486  0.125951    0.0477785  -0.27174966 -0.06332042\n",
      " -0.12725791 -0.03387785  0.01130221 -0.04147368  0.22723849  0.29448651\n",
      " -0.02159007  0.526561   -0.25158029  0.03071211 -0.17614052 -0.3882979 ]\n",
      "gamma_hat:\n",
      "[ 0.1948704   0.64089984 -0.06781785  0.50560475  0.36041629  0.37021943\n",
      " -0.13094845 -0.01177385  0.16812377 -0.5483902   0.00250318  0.00421239\n",
      "  0.07587806  0.00726997  0.08171275  0.29203514 -0.01488344 -0.28991013\n",
      "  0.02992848  0.11913799  0.05762302 -0.31275395 -0.21977802 -0.18829479\n",
      "  0.09773335 -0.17207727 -0.07876445 -0.10774269  0.11157798 -0.2421992\n",
      " -0.01439661  0.03826879 -0.1055833   0.49814128 -0.54819518 -0.6026475 ]\n"
     ]
    }
   ],
   "source": [
    "print(\"gamma:\\n{}\\ngamma_hat:\\n{}\".format(gamma, gamma_hat))"
   ]
  },
  {
   "cell_type": "markdown",
   "metadata": {},
   "source": [
    "Let's our implementation to `statsmodels`."
   ]
  },
  {
   "cell_type": "code",
   "execution_count": 141,
   "metadata": {},
   "outputs": [],
   "source": [
    "import statsmodels.formula.api as smf"
   ]
  },
  {
   "cell_type": "code",
   "execution_count": 142,
   "metadata": {},
   "outputs": [
    {
     "data": {
      "text/html": [
       "<div>\n",
       "<style scoped>\n",
       "    .dataframe tbody tr th:only-of-type {\n",
       "        vertical-align: middle;\n",
       "    }\n",
       "\n",
       "    .dataframe tbody tr th {\n",
       "        vertical-align: top;\n",
       "    }\n",
       "\n",
       "    .dataframe thead th {\n",
       "        text-align: right;\n",
       "    }\n",
       "</style>\n",
       "<table border=\"1\" class=\"dataframe\">\n",
       "  <thead>\n",
       "    <tr style=\"text-align: right;\">\n",
       "      <th></th>\n",
       "      <th>Reaction</th>\n",
       "      <th>Days</th>\n",
       "      <th>Subject</th>\n",
       "    </tr>\n",
       "  </thead>\n",
       "  <tbody>\n",
       "    <tr>\n",
       "      <th>0</th>\n",
       "      <td>249.5600</td>\n",
       "      <td>0</td>\n",
       "      <td>308</td>\n",
       "    </tr>\n",
       "    <tr>\n",
       "      <th>1</th>\n",
       "      <td>258.7047</td>\n",
       "      <td>1</td>\n",
       "      <td>308</td>\n",
       "    </tr>\n",
       "    <tr>\n",
       "      <th>2</th>\n",
       "      <td>250.8006</td>\n",
       "      <td>2</td>\n",
       "      <td>308</td>\n",
       "    </tr>\n",
       "    <tr>\n",
       "      <th>3</th>\n",
       "      <td>321.4398</td>\n",
       "      <td>3</td>\n",
       "      <td>308</td>\n",
       "    </tr>\n",
       "    <tr>\n",
       "      <th>4</th>\n",
       "      <td>356.8519</td>\n",
       "      <td>4</td>\n",
       "      <td>308</td>\n",
       "    </tr>\n",
       "  </tbody>\n",
       "</table>\n",
       "</div>"
      ],
      "text/plain": [
       "   Reaction  Days  Subject\n",
       "0  249.5600     0      308\n",
       "1  258.7047     1      308\n",
       "2  250.8006     2      308\n",
       "3  321.4398     3      308\n",
       "4  356.8519     4      308"
      ]
     },
     "execution_count": 142,
     "metadata": {},
     "output_type": "execute_result"
    }
   ],
   "source": [
    "tab = pandas.read_csv(\"./data/sleepstudy.csv\")\n",
    "tab.head()"
   ]
  },
  {
   "cell_type": "code",
   "execution_count": 147,
   "metadata": {},
   "outputs": [],
   "source": [
    "y, X = dmatrices(\"Reaction ~ Days\", tab)"
   ]
  },
  {
   "cell_type": "code",
   "execution_count": 154,
   "metadata": {},
   "outputs": [
    {
     "name": "stdout",
     "output_type": "stream",
     "text": [
      "            Mixed Linear Model Regression Results\n",
      "==============================================================\n",
      "Model:               MixedLM   Dependent Variable:   Reaction \n",
      "No. Observations:    180       Method:               REML     \n",
      "No. Groups:          18        Scale:                654.9405 \n",
      "Min. group size:     10        Likelihood:           -871.8141\n",
      "Max. group size:     10        Converged:            Yes      \n",
      "Mean group size:     10.0                                     \n",
      "--------------------------------------------------------------\n",
      "                  Coef.  Std.Err.   z    P>|z|  [0.025  0.975]\n",
      "--------------------------------------------------------------\n",
      "Intercept        251.405    6.825 36.838 0.000 238.029 264.781\n",
      "Days              10.467    1.546  6.771 0.000   7.438  13.497\n",
      "Group Var        612.096   11.881                             \n",
      "Group x Days Cov   9.605    1.821                             \n",
      "Days Var          35.072    0.610                             \n",
      "==============================================================\n",
      "\n"
     ]
    }
   ],
   "source": [
    "md = smf.mixedlm(\"Reaction ~ Days\", tab, groups=tab[\"Subject\"], re_formula=\"~ Days\")\n",
    "mdf = md.fit()\n",
    "print(mdf.summary())"
   ]
  },
  {
   "cell_type": "code",
   "execution_count": 196,
   "metadata": {},
   "outputs": [],
   "source": [
    "optimz = optim(fn, y, X, U)\n",
    "sd_hat, nu_hat = optimz['sigma'], optimz['nu']\n",
    "V_hat, G_hat, R_hat = v(sd_hat, nu_hat, n, q, U)\n",
    "b_hat = wls(y, X, V_hat)\n",
    "gamma_hat = solve_gamma(y, X, G_hat, U, V_hat, b_hat)"
   ]
  },
  {
   "cell_type": "code",
   "execution_count": 197,
   "metadata": {},
   "outputs": [
    {
     "data": {
      "text/plain": [
       "array([[251.40510485],\n",
       "       [ 10.46728596]])"
      ]
     },
     "execution_count": 197,
     "metadata": {},
     "output_type": "execute_result"
    }
   ],
   "source": [
    "b_hat"
   ]
  },
  {
   "cell_type": "markdown",
   "metadata": {},
   "source": [
    "## Poisson GLMMs"
   ]
  },
  {
   "cell_type": "code",
   "execution_count": 13,
   "metadata": {},
   "outputs": [],
   "source": [
    "def glme():\n",
    "    n, pa = X.shape\n",
    "    q = int(U.shape[1] / 2)\n",
    "\n",
    "    sd = 0.1\n",
    "    beta = sp.array([.1, .1])\n",
    "    Q = sd * sp.array([[1, 0.25], [0.25, 1]])\n",
    "    gamma \n",
    "    \n",
    "    \n",
    "    \n",
    "    \n",
    "    = rmvnorm(mean=sp.zeros(q * 2), cov=block_diag(Q, q))\n",
    "\n",
    "    y = rpois(mu=sp.exp(X.dot(beta) + U.dot(gamma)))\n",
    "\n",
    "    pll = restricted_mll(\"poisson\")\n",
    "    fn = lambda nu, y, X, U, W, b: sp.asscalar(pll(nu, y, X, U, W, b)[0])\n",
    "\n",
    "    b_tilde = bold = sp.ones(shape=p)\n",
    "    g_tilde = gold = sp.ones(shape=q * 2)\n",
    "    \n",
    "    while True:\n",
    "        y_tilde = working_response(y, X, U, b_tilde, g_tilde, sp.exp, sp.exp)\n",
    "        w_tilde = working_weight(y, X, U, b_tilde, g_tilde, sp.exp, sp.exp)\n",
    "        \n",
    "        optimz = optim_poisson(fn, y_tilde, X, U,\n",
    "                               sp.diag(w_tilde), b_tilde, iter=1)\n",
    "        nu_hat = optimz['nu']\n",
    "        \n",
    "        G_hat = ranef_variance(nu_hat, q)\n",
    "        b_tilde, g_tilde = irls(X, U, G_hat, w_tilde, y_tilde)\n",
    "\n",
    "        if sp.sum((b_tilde - bold) ** 2) < 0.00001 and \\\n",
    "           sp.sum((g_tilde - gold) ** 2) < 0.00001:\n",
    "           break\n",
    "        bold, gold = b_tilde, g_tilde\n",
    "    \n",
    "    print(\"beta/beta_hat:\\n{}/{}\\n\".format(beta, b_tilde))\n",
    "    print(\"gamma/gammahat:\\n{}/\\n{}\\n\".format(gamma, g_tilde))"
   ]
  },
  {
   "cell_type": "code",
   "execution_count": 14,
   "metadata": {},
   "outputs": [
    {
     "name": "stdout",
     "output_type": "stream",
     "text": [
      "beta/beta_hat:\n",
      "[0.1 0.1]/[-0.19744485 -0.04434282]\n",
      "\n",
      "gamma/gammahat:\n",
      "[ 0.14940994 -0.35028678 -0.63948735  0.07552716  0.46248431 -0.01636515\n",
      "  0.09370921 -0.38934835  0.27404765  0.44083184 -0.15531892  0.0752115\n",
      "  0.0396481  -0.0703771   0.23669006 -0.04031613  0.04507746  0.2424409\n",
      " -0.51458518 -0.3319769   0.07864307 -0.03069841  0.42996693 -0.04190384\n",
      " -0.13766715 -0.15954766  0.18798917 -0.06912578 -0.15647169 -0.35374621\n",
      " -0.40461758 -0.24930647 -0.0647015   0.12580602 -0.24023007 -0.13100664]/\n",
      "[-0.47211929  0.05051085 -0.28029166  0.27171182  1.10779135  0.06555264\n",
      " -0.35421056 -0.6444423   0.97925192  0.52865871 -0.09118659  0.27474221\n",
      " -0.3742151   0.14417273 -0.54953846  0.17835032  0.68189258  0.34449695\n",
      " -0.11954577 -1.29927973  0.1181167   0.15460799 -0.11423731  0.1978962\n",
      " -0.16812165 -0.08938988  0.8840803  -0.15482671 -0.40312473 -0.09066562\n",
      " -0.20111074 -0.3320241  -0.27299537  0.33566633 -0.37043563  0.06426158]\n",
      "\n"
     ]
    }
   ],
   "source": [
    "glme()"
   ]
  },
  {
   "cell_type": "code",
   "execution_count": null,
   "metadata": {},
   "outputs": [],
   "source": []
  }
 ],
 "metadata": {
  "kernelspec": {
   "display_name": "Python (ML)",
   "language": "python",
   "name": "ml"
  },
  "language_info": {
   "codemirror_mode": {
    "name": "ipython",
    "version": 3
   },
   "file_extension": ".py",
   "mimetype": "text/x-python",
   "name": "python",
   "nbconvert_exporter": "python",
   "pygments_lexer": "ipython3",
   "version": "3.6.8"
  }
 },
 "nbformat": 4,
 "nbformat_minor": 2
}
